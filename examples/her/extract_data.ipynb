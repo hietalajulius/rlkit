{
 "cells": [
  {
   "cell_type": "code",
   "execution_count": 30,
   "metadata": {},
   "outputs": [],
   "source": [
    "from tensorboard.backend.event_processing import event_accumulator\n",
    "import pandas as pd\n",
    "import numpy as np\n"
   ]
  },
  {
   "cell_type": "code",
   "execution_count": 51,
   "metadata": {},
   "outputs": [],
   "source": [
    "fold1_d = '[her-ddpg-diagonal-pixels-goalcond-run-demos6_2020_08_19_17_05_18_0000--s-0]'\n",
    "file1_d = 'events.out.tfevents.1597846060.clothmanip-ROG-Strix-G531GT-G531GT.8122.0'\n",
    "fold2_d = '[her-ddpg-diagonal-pixels-goalcond-run-NoneNone_2020_08_20_13_57_51_0000--s-0]'\n",
    "file2_d = 'events.out.tfevents.1597921318.clothmanip-ROG-Strix-G531GT-G531GT.14715.0'\n",
    "fold3_d = '[her-ddpg-diagonal-pixels-goalcond-run-demos9_2020_08_20_03_31_50_0000--s-0]'\n",
    "file3_d = 'events.out.tfevents.1597883656.clothmanip-ROG-Strix-G531GT-G531GT.29242.0'\n",
    "\n",
    "fold1_s = '[her-ddpg-sideways-pixels-improvements-demos1_2020_08_24_13_09_35_0000--s-0]'\n",
    "file1_s = 'events.out.tfevents.1598263989.clothmanip-ROG-Strix-G531GT-G531GT.22915.0'\n",
    "fold2_s = '[her-ddpg-sideways-pixels-improvements-demos2_2020_08_24_20_17_01_0000--s-0]'\n",
    "file2_s = 'events.out.tfevents.1598289675.clothmanip-ROG-Strix-G531GT-G531GT.8622.0'\n",
    "fold3_s = '[her-ddpg-sideways-pixels-improvements-demos3_2020_08_25_03_22_35_0000--s-0]'\n",
    "file3_s = 'events.out.tfevents.1598315193.clothmanip-ROG-Strix-G531GT-G531GT.28643.0'"
   ]
  },
  {
   "cell_type": "code",
   "execution_count": 52,
   "metadata": {},
   "outputs": [],
   "source": [
    "ea_1d = event_accumulator.EventAccumulator('./diag1/'+ file1_d)\n",
    "ea_2d = event_accumulator.EventAccumulator('./diag2/'+ file2_d)\n",
    "ea_3d = event_accumulator.EventAccumulator('./diag3/'+ file3_d)\n",
    "\n",
    "ea_1s = event_accumulator.EventAccumulator('./side1/'+ file1_s)\n",
    "ea_2s = event_accumulator.EventAccumulator('./side2/'+ file2_s)\n",
    "ea_3s = event_accumulator.EventAccumulator('./side3/'+ file3_s)"
   ]
  },
  {
   "cell_type": "code",
   "execution_count": null,
   "metadata": {},
   "outputs": [],
   "source": []
  },
  {
   "cell_type": "code",
   "execution_count": 59,
   "metadata": {},
   "outputs": [],
   "source": [
    "ea_3s.Reload()\n",
    "success = ea_3s.Scalars('test/eval')\n",
    "state = ea_3s.Scalars('test/eval/stateloss')\n",
    "arr =[]\n",
    "for i in range(100):\n",
    "    arr.append([success[i].value, state[i].value])\n",
    "arr = np.array(arr)\n",
    "df = pd.DataFrame(arr)\n",
    "\n",
    "df.to_csv(\"side3.csv\")\n",
    "    "
   ]
  },
  {
   "cell_type": "code",
   "execution_count": null,
   "metadata": {},
   "outputs": [],
   "source": []
  }
 ],
 "metadata": {
  "kernelspec": {
   "display_name": "Python 3",
   "language": "python",
   "name": "python3"
  },
  "language_info": {
   "codemirror_mode": {
    "name": "ipython",
    "version": 3
   },
   "file_extension": ".py",
   "mimetype": "text/x-python",
   "name": "python",
   "nbconvert_exporter": "python",
   "pygments_lexer": "ipython3",
   "version": "3.8.3"
  }
 },
 "nbformat": 4,
 "nbformat_minor": 4
}
